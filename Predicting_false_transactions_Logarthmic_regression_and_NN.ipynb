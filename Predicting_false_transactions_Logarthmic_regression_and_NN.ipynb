{
  "nbformat": 4,
  "nbformat_minor": 0,
  "metadata": {
    "colab": {
      "name": "SirajW3Weekly.ipynb",
      "version": "0.3.2",
      "provenance": [],
      "machine_shape": "hm"
    },
    "kernelspec": {
      "name": "python3",
      "display_name": "Python 3"
    }
  },
  "cells": [
    {
      "cell_type": "code",
      "metadata": {
        "id": "NhMoEcwXFGvC",
        "colab_type": "code",
        "outputId": "7d9f4ab4-4f0f-4e5a-d629-fb1d6cbf375d",
        "colab": {
          "base_uri": "https://localhost:8080/",
          "height": 71
        }
      },
      "source": [
        "print(\"Hello world\")\n",
        "import keras\n",
        "from tqdm import tqdm\n",
        "import seaborn as sns\n",
        "\n",
        "import datetime\n",
        "import pandas_datareader.data as web\n",
        "from pandas import Series, DataFrame\n",
        "from sklearn.linear_model import LinearRegression\n",
        "from sklearn.neighbors import KNeighborsRegressor\n",
        "from sklearn.linear_model import Ridge,BayesianRidge\n",
        "from sklearn.preprocessing import PolynomialFeatures\n",
        "from sklearn.pipeline import make_pipeline\n",
        "from sklearn.model_selection import train_test_split\n",
        "from sklearn import preprocessing\n",
        "from sklearn.linear_model import SGDRegressor\n",
        "from copy import deepcopy\n",
        "import math\n",
        "import numpy as np\n",
        "import sklearn as sk\n",
        "import pandas as pd\n",
        "import matplotlib.pyplot as plt\n",
        "from sklearn.preprocessing import scale\n",
        "import random\n",
        "import os\n",
        "from google.colab import files\n",
        "from pydrive.auth import GoogleAuth\n",
        "from pydrive.drive import GoogleDrive\n",
        "from google.colab import auth\n",
        "from oauth2client.client import GoogleCredentials\n",
        "from google.colab import drive\n",
        "drive.mount('/content/drive')\n"
      ],
      "execution_count": 20,
      "outputs": [
        {
          "output_type": "stream",
          "text": [
            "Hello world\n",
            "Drive already mounted at /content/drive; to attempt to forcibly remount, call drive.mount(\"/content/drive\", force_remount=True).\n"
          ],
          "name": "stdout"
        }
      ]
    },
    {
      "cell_type": "code",
      "metadata": {
        "id": "X3f_Nd4RFJSt",
        "colab_type": "code",
        "colab": {}
      },
      "source": [
        ""
      ],
      "execution_count": 0,
      "outputs": []
    },
    {
      "cell_type": "code",
      "metadata": {
        "id": "Y79k0BK8f3Zo",
        "colab_type": "code",
        "colab": {}
      },
      "source": [
        "df = pd.read_csv('/content/drive/My Drive/Colab Notebooks/creditcard.csv', low_memory=False)"
      ],
      "execution_count": 0,
      "outputs": []
    },
    {
      "cell_type": "code",
      "metadata": {
        "id": "lRQekrEWFmlj",
        "colab_type": "code",
        "outputId": "8611d0b5-0616-4ff3-d798-25642ace6fb5",
        "colab": {
          "base_uri": "https://localhost:8080/",
          "height": 224
        }
      },
      "source": [
        "df = df.sample(frac=1).reset_index(drop=True)\n",
        "df.head()"
      ],
      "execution_count": 22,
      "outputs": [
        {
          "output_type": "execute_result",
          "data": {
            "text/html": [
              "<div>\n",
              "<style scoped>\n",
              "    .dataframe tbody tr th:only-of-type {\n",
              "        vertical-align: middle;\n",
              "    }\n",
              "\n",
              "    .dataframe tbody tr th {\n",
              "        vertical-align: top;\n",
              "    }\n",
              "\n",
              "    .dataframe thead th {\n",
              "        text-align: right;\n",
              "    }\n",
              "</style>\n",
              "<table border=\"1\" class=\"dataframe\">\n",
              "  <thead>\n",
              "    <tr style=\"text-align: right;\">\n",
              "      <th></th>\n",
              "      <th>Time</th>\n",
              "      <th>V1</th>\n",
              "      <th>V2</th>\n",
              "      <th>V3</th>\n",
              "      <th>V4</th>\n",
              "      <th>V5</th>\n",
              "      <th>V6</th>\n",
              "      <th>V7</th>\n",
              "      <th>V8</th>\n",
              "      <th>V9</th>\n",
              "      <th>V10</th>\n",
              "      <th>V11</th>\n",
              "      <th>V12</th>\n",
              "      <th>V13</th>\n",
              "      <th>V14</th>\n",
              "      <th>V15</th>\n",
              "      <th>V16</th>\n",
              "      <th>V17</th>\n",
              "      <th>V18</th>\n",
              "      <th>V19</th>\n",
              "      <th>V20</th>\n",
              "      <th>V21</th>\n",
              "      <th>V22</th>\n",
              "      <th>V23</th>\n",
              "      <th>V24</th>\n",
              "      <th>V25</th>\n",
              "      <th>V26</th>\n",
              "      <th>V27</th>\n",
              "      <th>V28</th>\n",
              "      <th>Amount</th>\n",
              "      <th>Class</th>\n",
              "    </tr>\n",
              "  </thead>\n",
              "  <tbody>\n",
              "    <tr>\n",
              "      <th>0</th>\n",
              "      <td>82638.0</td>\n",
              "      <td>-1.043440</td>\n",
              "      <td>0.712755</td>\n",
              "      <td>1.072005</td>\n",
              "      <td>1.259021</td>\n",
              "      <td>0.012793</td>\n",
              "      <td>0.577655</td>\n",
              "      <td>0.272775</td>\n",
              "      <td>0.690651</td>\n",
              "      <td>-0.819780</td>\n",
              "      <td>-0.450648</td>\n",
              "      <td>0.534029</td>\n",
              "      <td>0.544219</td>\n",
              "      <td>-0.693097</td>\n",
              "      <td>0.675352</td>\n",
              "      <td>-0.378659</td>\n",
              "      <td>-0.756476</td>\n",
              "      <td>0.484581</td>\n",
              "      <td>0.075707</td>\n",
              "      <td>1.182323</td>\n",
              "      <td>0.106462</td>\n",
              "      <td>0.115001</td>\n",
              "      <td>0.169555</td>\n",
              "      <td>-0.063362</td>\n",
              "      <td>-0.308666</td>\n",
              "      <td>0.166970</td>\n",
              "      <td>-0.188331</td>\n",
              "      <td>-0.003940</td>\n",
              "      <td>0.002624</td>\n",
              "      <td>80.76</td>\n",
              "      <td>0</td>\n",
              "    </tr>\n",
              "    <tr>\n",
              "      <th>1</th>\n",
              "      <td>127509.0</td>\n",
              "      <td>-1.239458</td>\n",
              "      <td>0.234505</td>\n",
              "      <td>-1.059616</td>\n",
              "      <td>0.698924</td>\n",
              "      <td>2.536889</td>\n",
              "      <td>-0.603794</td>\n",
              "      <td>1.181039</td>\n",
              "      <td>-0.821756</td>\n",
              "      <td>-0.004393</td>\n",
              "      <td>1.734950</td>\n",
              "      <td>0.418350</td>\n",
              "      <td>-0.381852</td>\n",
              "      <td>-1.078819</td>\n",
              "      <td>0.458044</td>\n",
              "      <td>0.019550</td>\n",
              "      <td>-0.652016</td>\n",
              "      <td>-0.827594</td>\n",
              "      <td>0.451029</td>\n",
              "      <td>1.096317</td>\n",
              "      <td>-0.702256</td>\n",
              "      <td>-0.002410</td>\n",
              "      <td>0.982435</td>\n",
              "      <td>-0.188597</td>\n",
              "      <td>0.163388</td>\n",
              "      <td>-0.819918</td>\n",
              "      <td>-0.621306</td>\n",
              "      <td>-0.345612</td>\n",
              "      <td>-0.083618</td>\n",
              "      <td>12.09</td>\n",
              "      <td>0</td>\n",
              "    </tr>\n",
              "    <tr>\n",
              "      <th>2</th>\n",
              "      <td>61752.0</td>\n",
              "      <td>1.532440</td>\n",
              "      <td>-0.985542</td>\n",
              "      <td>0.129448</td>\n",
              "      <td>-1.634455</td>\n",
              "      <td>-1.048313</td>\n",
              "      <td>-0.221502</td>\n",
              "      <td>-0.992532</td>\n",
              "      <td>-0.081255</td>\n",
              "      <td>-2.127117</td>\n",
              "      <td>1.595199</td>\n",
              "      <td>0.570754</td>\n",
              "      <td>-0.186375</td>\n",
              "      <td>1.075807</td>\n",
              "      <td>-0.262960</td>\n",
              "      <td>-0.130087</td>\n",
              "      <td>0.011492</td>\n",
              "      <td>-0.071537</td>\n",
              "      <td>0.659374</td>\n",
              "      <td>0.352279</td>\n",
              "      <td>-0.255107</td>\n",
              "      <td>-0.210171</td>\n",
              "      <td>-0.220718</td>\n",
              "      <td>-0.087505</td>\n",
              "      <td>-0.505856</td>\n",
              "      <td>0.484455</td>\n",
              "      <td>-0.174233</td>\n",
              "      <td>0.028228</td>\n",
              "      <td>0.003749</td>\n",
              "      <td>15.00</td>\n",
              "      <td>0</td>\n",
              "    </tr>\n",
              "    <tr>\n",
              "      <th>3</th>\n",
              "      <td>167116.0</td>\n",
              "      <td>1.845787</td>\n",
              "      <td>-2.084794</td>\n",
              "      <td>-1.161231</td>\n",
              "      <td>-1.481144</td>\n",
              "      <td>-1.403059</td>\n",
              "      <td>-0.416304</td>\n",
              "      <td>-0.858223</td>\n",
              "      <td>-0.184091</td>\n",
              "      <td>-1.471229</td>\n",
              "      <td>1.630719</td>\n",
              "      <td>0.396693</td>\n",
              "      <td>-0.074840</td>\n",
              "      <td>0.671995</td>\n",
              "      <td>-0.255187</td>\n",
              "      <td>-0.836042</td>\n",
              "      <td>-0.233704</td>\n",
              "      <td>0.098319</td>\n",
              "      <td>0.509547</td>\n",
              "      <td>0.213378</td>\n",
              "      <td>0.048600</td>\n",
              "      <td>-0.022769</td>\n",
              "      <td>-0.068849</td>\n",
              "      <td>-0.002577</td>\n",
              "      <td>-0.411259</td>\n",
              "      <td>-0.282834</td>\n",
              "      <td>-0.214625</td>\n",
              "      <td>-0.030345</td>\n",
              "      <td>-0.023253</td>\n",
              "      <td>238.50</td>\n",
              "      <td>0</td>\n",
              "    </tr>\n",
              "    <tr>\n",
              "      <th>4</th>\n",
              "      <td>68192.0</td>\n",
              "      <td>1.485528</td>\n",
              "      <td>-1.199099</td>\n",
              "      <td>0.198268</td>\n",
              "      <td>-1.764036</td>\n",
              "      <td>-0.982927</td>\n",
              "      <td>0.530620</td>\n",
              "      <td>-1.332796</td>\n",
              "      <td>0.231796</td>\n",
              "      <td>-1.794307</td>\n",
              "      <td>1.562697</td>\n",
              "      <td>0.301713</td>\n",
              "      <td>-0.909315</td>\n",
              "      <td>-0.223595</td>\n",
              "      <td>-0.054184</td>\n",
              "      <td>0.486265</td>\n",
              "      <td>0.097178</td>\n",
              "      <td>0.077271</td>\n",
              "      <td>0.449926</td>\n",
              "      <td>0.135842</td>\n",
              "      <td>-0.348111</td>\n",
              "      <td>-0.372342</td>\n",
              "      <td>-0.772529</td>\n",
              "      <td>0.057038</td>\n",
              "      <td>-1.217994</td>\n",
              "      <td>0.153236</td>\n",
              "      <td>-0.323518</td>\n",
              "      <td>0.047348</td>\n",
              "      <td>0.003745</td>\n",
              "      <td>19.60</td>\n",
              "      <td>0</td>\n",
              "    </tr>\n",
              "  </tbody>\n",
              "</table>\n",
              "</div>"
            ],
            "text/plain": [
              "       Time        V1        V2        V3  ...       V27       V28  Amount  Class\n",
              "0   82638.0 -1.043440  0.712755  1.072005  ... -0.003940  0.002624   80.76      0\n",
              "1  127509.0 -1.239458  0.234505 -1.059616  ... -0.345612 -0.083618   12.09      0\n",
              "2   61752.0  1.532440 -0.985542  0.129448  ...  0.028228  0.003749   15.00      0\n",
              "3  167116.0  1.845787 -2.084794 -1.161231  ... -0.030345 -0.023253  238.50      0\n",
              "4   68192.0  1.485528 -1.199099  0.198268  ...  0.047348  0.003745   19.60      0\n",
              "\n",
              "[5 rows x 31 columns]"
            ]
          },
          "metadata": {
            "tags": []
          },
          "execution_count": 22
        }
      ]
    },
    {
      "cell_type": "code",
      "metadata": {
        "id": "H0ZeOfZOfIrG",
        "colab_type": "code",
        "outputId": "9c458062-9720-4a3b-c7bf-598d765e2c10",
        "colab": {
          "base_uri": "https://localhost:8080/",
          "height": 51
        }
      },
      "source": [
        "fraud = df.loc[df['Class'] == 1]\n",
        "non_frauds = df.loc[df['Class'] == 0]\n",
        "print(len(fraud))\n",
        "print(len(non_frauds))"
      ],
      "execution_count": 23,
      "outputs": [
        {
          "output_type": "stream",
          "text": [
            "492\n",
            "284315\n"
          ],
          "name": "stdout"
        }
      ]
    },
    {
      "cell_type": "code",
      "metadata": {
        "id": "cMMWoc36ebpF",
        "colab_type": "code",
        "outputId": "f7b8bc1f-b351-4da6-d228-abdf6cdd12d3",
        "colab": {
          "base_uri": "https://localhost:8080/",
          "height": 291
        }
      },
      "source": [
        "ax = fraud.plot.scatter(x='Amount', y='Class', color='Orange', label='Fraud')\n",
        "non_frauds.plot.scatter(x='Amount', y='Class', color='Blue',label='Non-Fraud',ax=ax)\n",
        "plt.show()"
      ],
      "execution_count": 24,
      "outputs": [
        {
          "output_type": "display_data",
          "data": {
            "image/png": "[encoded data removed]",
            "text/plain": [
              "<Figure size 432x288 with 1 Axes>"
            ]
          },
          "metadata": {
            "tags": []
          }
        }
      ]
    },
    {
      "cell_type": "code",
      "metadata": {
        "id": "prhBw2_-j0V_",
        "colab_type": "code",
        "colab": {}
      },
      "source": [
        "from sklearn import linear_model\n",
        "from sklearn.model_selection import  train_test_split"
      ],
      "execution_count": 0,
      "outputs": []
    },
    {
      "cell_type": "code",
      "metadata": {
        "id": "hOnuHfScobuE",
        "colab_type": "code",
        "colab": {
          "base_uri": "https://localhost:8080/",
          "height": 34
        },
        "outputId": "8b487f03-8b1b-4fee-e983-1df8e310c197"
      },
      "source": [
        "x = df.iloc[:, :-1]\n",
        "y = df['Class']\n",
        "X_train, X_test, y_train, y_test = train_test_split(x,y,test_size=0.35)\n",
        "print(len(X_test),len(X_train))"
      ],
      "execution_count": 26,
      "outputs": [
        {
          "output_type": "stream",
          "text": [
            "99683 185124\n"
          ],
          "name": "stdout"
        }
      ]
    },
    {
      "cell_type": "code",
      "metadata": {
        "id": "0rZASJvDorId",
        "colab_type": "code",
        "outputId": "ac4ab8bb-1415-4793-f714-4ada0c125183",
        "colab": {
          "base_uri": "https://localhost:8080/",
          "height": 88
        }
      },
      "source": [
        "logistic = linear_model.LogisticRegression(C=1e5)\n",
        "logistic.fit(X_train,y_train)\n",
        "print('Score:', logistic.score(X_test,y_test))"
      ],
      "execution_count": 27,
      "outputs": [
        {
          "output_type": "stream",
          "text": [
            "/usr/local/lib/python3.6/dist-packages/sklearn/linear_model/logistic.py:432: FutureWarning: Default solver will be changed to 'lbfgs' in 0.22. Specify a solver to silence this warning.\n",
            "  FutureWarning)\n"
          ],
          "name": "stderr"
        },
        {
          "output_type": "stream",
          "text": [
            "Score: 0.9988664065086323\n"
          ],
          "name": "stdout"
        }
      ]
    },
    {
      "cell_type": "code",
      "metadata": {
        "id": "xF64Ln-gxR95",
        "colab_type": "code",
        "colab": {}
      },
      "source": [
        ""
      ],
      "execution_count": 0,
      "outputs": []
    },
    {
      "cell_type": "code",
      "metadata": {
        "id": "sPyn5ZkySnMN",
        "colab_type": "code",
        "colab": {}
      },
      "source": [
        "scoreBall = {}\n"
      ],
      "execution_count": 0,
      "outputs": []
    },
    {
      "cell_type": "code",
      "metadata": {
        "id": "uo0dNRoXQW-_",
        "colab_type": "code",
        "colab": {}
      },
      "source": [
        "#solverList = ['newton-cg', 'lbfgs', 'liblinear', 'sag', 'saga']\n",
        "# for test_size in range(10,90):\n",
        "#   print(test_size)\n",
        "#   X_train, X_test, y_train, y_test = train_test_split(x,y,test_size=(test_size/100))\n",
        "#   #for cValue in np.arange(0.0000001,0.0001,0.0000005):\n",
        "#   #for solver in solverList:\n",
        "#   #  if str(str(cValue)+str(test_size)+str(solver)) not in scoreBall:\n",
        "#   logistic = linear_model.LogisticRegression(C=1e5,solver='lbfgs')\n",
        "#   logistic.fit(X_train,y_train)\n",
        "#   scoreBall[str(test_size)] = logistic.score(X_test,y_test)\n",
        "\n"
      ],
      "execution_count": 0,
      "outputs": []
    },
    {
      "cell_type": "code",
      "metadata": {
        "id": "2LdqkHqP63MQ",
        "colab_type": "code",
        "colab": {}
      },
      "source": [
        "# listofTuples = sorted(scoreBall.items() ,  key=lambda x: len (x[0] ) )\n",
        "# def bubbleSort(alist):\n",
        "#     for passnum in range(len(alist)-1,0,-1):\n",
        "#         for i in range(passnum):\n",
        "#             if alist[i][1]<alist[i+1][1]:\n",
        "#                 temp = alist[i]\n",
        "#                 alist[i] = alist[i+1]\n",
        "#                 alist[i+1] = temp\n",
        "#     return alist\n",
        "\n",
        "# listofTuples = bubbleSort(listofTuples)\n",
        "# print(listofTuples)"
      ],
      "execution_count": 0,
      "outputs": []
    },
    {
      "cell_type": "code",
      "metadata": {
        "id": "NQeWS0hTBCDs",
        "colab_type": "code",
        "colab": {
          "base_uri": "https://localhost:8080/",
          "height": 88
        },
        "outputId": "33cd293e-8d4c-47d1-a02a-3ea537c5a516"
      },
      "source": [
        "print(\"A range from 10-90 train_test_split values all land the estimation from 98% confidence or more.\")\n",
        "print(\"Given this, this likely means that the datapoints are very consistent.\")\n",
        "print(\"Im not sure how to optimize for this.  Maybe 50/50 or so?\")"
      ],
      "execution_count": 30,
      "outputs": [
        {
          "output_type": "stream",
          "text": [
            "A range from 10-90 train_test_split values all land the estimation from 98% confidence or more.\n",
            "Given this, this likely means that the datapoints are very consistent.\n",
            "Im not sure how to optimize for this.  Maybe 50/50 or so?\n"
          ],
          "name": "stdout"
        }
      ]
    },
    {
      "cell_type": "code",
      "metadata": {
        "id": "1JZlZdHQE9Sy",
        "colab_type": "code",
        "colab": {}
      },
      "source": [
        "false_neg = 0\n",
        "false_pos = 0\n",
        "pos_neg = 0\n",
        "pos_pos = 0\n",
        "y_predicted = np.array(logistic.predict(X_test))\n",
        "\n",
        "for i,yt in enumerate(y_test):\n",
        "  #print(i,yt)\n",
        "  if y_predicted[i] == 0 and yt == 1:\n",
        "    false_pos+=1\n",
        "  elif y_predicted[i] == 0 and yt == 0:\n",
        "    pos_neg+=1\n",
        "  elif y_predicted[i] == 1 and yt == 1:\n",
        "    pos_pos+=1\n",
        "  elif y_predicted[i] == 1 and yt == 0:\n",
        "    false_neg+=1\n",
        "    "
      ],
      "execution_count": 0,
      "outputs": []
    },
    {
      "cell_type": "code",
      "metadata": {
        "id": "eKMr8PzYHdi7",
        "colab_type": "code",
        "colab": {
          "base_uri": "https://localhost:8080/",
          "height": 85
        },
        "outputId": "e046156c-4102-4a8b-c019-394562408a3e"
      },
      "source": [
        "print(\"False Negatives:\",false_neg)\n",
        "print(\"False Positives:\",false_pos)\n",
        "print(\"Positive Negatives:\",pos_neg)\n",
        "print(\"Positive Positives\",pos_pos)"
      ],
      "execution_count": 32,
      "outputs": [
        {
          "output_type": "stream",
          "text": [
            "False Negatives: 46\n",
            "False Positives: 67\n",
            "Positive Negatives: 99453\n",
            "Positive Positives 117\n"
          ],
          "name": "stdout"
        }
      ]
    },
    {
      "cell_type": "code",
      "metadata": {
        "id": "4n4_QwYHH8iT",
        "colab_type": "code",
        "colab": {
          "base_uri": "https://localhost:8080/",
          "height": 343
        },
        "outputId": "6a2c0972-aa44-4c54-b080-466fe9bc8b27"
      },
      "source": [
        "sns.set()\n",
        "sns.set(style=\"whitegrid\")\n",
        "df_barplot = pd.DataFrame({\n",
        "    'False readings': ['false_neg','false_pos'],\n",
        "    'Count': [false_neg, false_pos]\n",
        "})\n",
        "sns.barplot(x='False readings',y='Count',data=df_barplot)\n",
        "\n",
        "print(\"Say you valued false positives to be twice as bad as a false negative\")\n",
        "print(\"From here you could assign the appropriate weights and recalculate scores\")\n",
        "print(\"Then go back and compare these with the results of other models\")"
      ],
      "execution_count": 33,
      "outputs": [
        {
          "output_type": "stream",
          "text": [
            "Say you valued false positives to be twice as bad as a false negative\n",
            "From here you could assign the appropriate weights and recalculate scores\n",
            "Then go back and compare these with the results of other models\n"
          ],
          "name": "stdout"
        },
        {
          "output_type": "display_data",
          "data": {
            "image/png": "[encoded data removed]",
            "text/plain": [
              "<Figure size 432x288 with 1 Axes>"
            ]
          },
          "metadata": {
            "tags": []
          }
        }
      ]
    },
    {
      "cell_type": "code",
      "metadata": {
        "id": "7JTrMYVWjx1r",
        "colab_type": "code",
        "colab": {}
      },
      "source": [
        "\n",
        "# y_predicted = np.array(logistic.predict(X_test))\n",
        "# print(y_predicted)\n",
        "import json\n",
        "#Create your own visualization\n",
        "#Try different testing sizes\n",
        "#Try different models\n",
        "#Custom: try different C values\n",
        "filename = \"eggs.json\"\n",
        "with open(filename,'w') as f:\n",
        "  json.dump(scoreBall,f)"
      ],
      "execution_count": 0,
      "outputs": []
    },
    {
      "cell_type": "code",
      "metadata": {
        "id": "Up0MGlgPxpad",
        "colab_type": "code",
        "colab": {
          "base_uri": "https://localhost:8080/",
          "height": 122
        },
        "outputId": "05a4a5bb-30a9-4faf-d0ce-c4c93a136e41"
      },
      "source": [
        "X_train, X_test, y_train, y_test = train_test_split(x,y,test_size=0.35)\n",
        "model = keras.models.Sequential()\n",
        "from keras import layers\n",
        "\n",
        "model.add(layers.Dense(900, activation='relu', input_shape=(30,)))\n",
        "model.add(layers.Dense(1800, activation='relu'))\n",
        "model.add(layers.Dense(1, activation='sigmoid'))\n",
        "model.compile(optimizer='rmsprop',\n",
        "              loss='binary_crossentropy',\n",
        "              metrics=['accuracy'])\n",
        "\n",
        "from keras import optimizers\n",
        "\n",
        "model.compile(optimizer=optimizers.RMSprop(lr=0.00001),\n",
        "              loss='binary_crossentropy',metrics=['accuracy'])\n",
        "from keras import losses\n",
        "from keras import metrics\n",
        "\n",
        "# #optimizer=optimizers.RMSprop(lr=0.001),\n",
        "#               loss=losses.binary_crossentropy,\n",
        "#               metrics=[metrics.binary_accuracy])\n",
        "\n",
        "history = model.fit(X_train,\n",
        "                    y_train,\n",
        "                    epochs=2,\n",
        "                    batch_size=64,\n",
        "                    validation_data=(X_test, y_test))"
      ],
      "execution_count": 41,
      "outputs": [
        {
          "output_type": "stream",
          "text": [
            "Train on 185124 samples, validate on 99683 samples\n",
            "Epoch 1/2\n",
            "185124/185124 [==============================] - 63s 341us/step - loss: 0.0405 - acc: 0.9975 - val_loss: 0.0249 - val_acc: 0.9985\n",
            "Epoch 2/2\n",
            "185124/185124 [==============================] - 63s 341us/step - loss: 0.0294 - acc: 0.9982 - val_loss: 0.0249 - val_acc: 0.9985\n"
          ],
          "name": "stdout"
        }
      ]
    },
    {
      "cell_type": "code",
      "metadata": {
        "id": "8BSJaqOZ8TKA",
        "colab_type": "code",
        "colab": {
          "base_uri": "https://localhost:8080/",
          "height": 394
        },
        "outputId": "ab72e642-1a95-4538-abba-833508de2c0f"
      },
      "source": [
        "false_neg = 0\n",
        "false_pos = 0\n",
        "pos_neg = 0\n",
        "pos_pos = 0\n",
        "y_predicted = np.array(model.predict(X_test))\n",
        "\n",
        "for i,yt in enumerate(y_test):\n",
        "  #print(i,yt)\n",
        "  if y_predicted[i] == 0 and yt == 1:\n",
        "    false_pos+=1\n",
        "  elif y_predicted[i] == 0 and yt == 0:\n",
        "    pos_neg+=1\n",
        "  elif y_predicted[i] == 1 and yt == 1:\n",
        "    pos_pos+=1\n",
        "  elif y_predicted[i] == 1 and yt == 0:\n",
        "    false_neg+=1\n",
        "print(\"False Negatives:\",false_neg)\n",
        "print(\"False Positives:\",false_pos)\n",
        "print(\"Positive Negatives:\",pos_neg)\n",
        "print(\"Positive Positives\",pos_pos)\n",
        "sns.set()\n",
        "sns.set(style=\"whitegrid\")\n",
        "df_barplot = pd.DataFrame({\n",
        "    'False readings': ['false_neg','false_pos'],\n",
        "    'Count': [false_neg, false_pos]\n",
        "})\n",
        "sns.barplot(x='False readings',y='Count',data=df_barplot)\n",
        "print('Score:',model.evaluate(X_test,y_test)[1])"
      ],
      "execution_count": 42,
      "outputs": [
        {
          "output_type": "stream",
          "text": [
            "False Negatives: 0\n",
            "False Positives: 154\n",
            "Positive Negatives: 99519\n",
            "Positive Positives 0\n",
            "99683/99683 [==============================] - 8s 80us/step\n",
            "Score: 0.9984551026754813\n"
          ],
          "name": "stdout"
        },
        {
          "output_type": "display_data",
          "data": {
            "image/png": "[encoded data removed]",
            "text/plain": [
              "<Figure size 432x288 with 1 Axes>"
            ]
          },
          "metadata": {
            "tags": []
          }
        }
      ]
    },
    {
      "cell_type": "code",
      "metadata": {
        "id": "hHyU14PYxTBH",
        "colab_type": "code",
        "colab": {
          "base_uri": "https://localhost:8080/",
          "height": 88
        },
        "outputId": "f38e01a3-7ec2-4683-8a3b-3daee167ace9"
      },
      "source": [
        "print(\"There are no false negatives, but there are overall more false readings.\")\n",
        "print(\"In our hypothetical above where we value false positives twice as weighted as false negatives this model performs much much worse\")\n",
        "print(\"However, in another hypothetical where false positives are weighted lower, this model could be much more competitive.\")"
      ],
      "execution_count": 44,
      "outputs": [
        {
          "output_type": "stream",
          "text": [
            "There are no false negatives, but there are overall more false readings.\n",
            "In our hypothetical above where we value false positives twice as weighted as false negatives this model performs much much worse\n",
            "However, in another hypothetical where false positives are half as weighted, this model is much more competitive.\n"
          ],
          "name": "stdout"
        }
      ]
    }
  ]
}